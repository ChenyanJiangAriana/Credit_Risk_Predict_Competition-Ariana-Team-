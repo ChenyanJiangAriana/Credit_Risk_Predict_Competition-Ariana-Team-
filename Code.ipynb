{
 "cells": [
  {
   "cell_type": "code",
   "execution_count": 27,
   "metadata": {},
   "outputs": [],
   "source": [
    "import pandas as pd\n",
    "import numpy as np\n",
    "from scipy import stats"
   ]
  },
  {
   "cell_type": "code",
   "execution_count": 3,
   "metadata": {},
   "outputs": [],
   "source": [
    "df=pd.read_csv('Development_sample_2.csv')"
   ]
  },
  {
   "cell_type": "code",
   "execution_count": 4,
   "metadata": {},
   "outputs": [
    {
     "name": "stdout",
     "output_type": "stream",
     "text": [
      "      Unnamed: 0      ID FLAGBINARY                  PHONE        MSTAT  \\\n",
      "0              0     1.0        Bad      Home number given       Single   \n",
      "1              1     2.0       Good      Home number given       Single   \n",
      "2              2     3.0        Bad  No phone number given      Married   \n",
      "3              3     5.0        Bad  No phone number given      Widowed   \n",
      "4              4     6.0       Good      Home number given      Married   \n",
      "...          ...     ...        ...                    ...          ...   \n",
      "4995        4995  6993.0        Bad      Home number given       Single   \n",
      "4996        4996  6994.0       Good      Home number given      Married   \n",
      "4997        4997  6997.0       Good  No phone number given     Divorced   \n",
      "4998        4998  6998.0       Good      Home number given      Married   \n",
      "4999        4999  7000.0       Good      Home number given  Co-habiting   \n",
      "\n",
      "              RSTAT  KIDS                    CARDI CARDH2   AGE  ...  \\\n",
      "0      Renting flat   0.0  No card insurance taken     No  65.0  ...   \n",
      "1      Renting flat   0.0  No card insurance taken     No  22.0  ...   \n",
      "2     Renting house   3.0  No card insurance taken     No  41.0  ...   \n",
      "3        Home owner   6.0  No card insurance taken     No  40.0  ...   \n",
      "4      Renting flat   0.0  No card insurance taken     No  70.0  ...   \n",
      "...             ...   ...                      ...    ...   ...  ...   \n",
      "4995   Renting flat   0.0  No card insurance taken     No  24.0  ...   \n",
      "4996   Renting flat   1.0  No card insurance taken     No  34.0  ...   \n",
      "4997     Home owner   2.0  No card insurance taken     No  35.0  ...   \n",
      "4998   Renting flat   2.0  No card insurance taken     No  39.0  ...   \n",
      "4999   Renting flat   1.0  No card insurance taken     No  25.0  ...   \n",
      "\n",
      "      AgeGrouped  Age_d_1  Age_d_2  Age_d_3  Age_d_4  Age_d_5  Age_d_6  \\\n",
      "0           10.0      0.0      0.0      0.0      0.0      0.0      0.0   \n",
      "1            1.0      1.0      0.0      0.0      0.0      0.0      0.0   \n",
      "2            6.0      0.0      0.0      0.0      0.0      0.0      1.0   \n",
      "3            6.0      0.0      0.0      0.0      0.0      0.0      1.0   \n",
      "4           10.0      0.0      0.0      0.0      0.0      0.0      0.0   \n",
      "...          ...      ...      ...      ...      ...      ...      ...   \n",
      "4995         2.0      0.0      1.0      0.0      0.0      0.0      0.0   \n",
      "4996         5.0      0.0      0.0      0.0      0.0      1.0      0.0   \n",
      "4997         6.0      0.0      0.0      0.0      0.0      0.0      1.0   \n",
      "4998         6.0      0.0      0.0      0.0      0.0      0.0      1.0   \n",
      "4999         2.0      0.0      1.0      0.0      0.0      0.0      0.0   \n",
      "\n",
      "      Age_d_7  Age_d_8 AgeWoe  \n",
      "0         0.0      1.0   1.13  \n",
      "1         0.0      0.0  -0.93  \n",
      "2         0.0      0.0   0.23  \n",
      "3         0.0      0.0   0.23  \n",
      "4         0.0      1.0   1.13  \n",
      "...       ...      ...    ...  \n",
      "4995      0.0      0.0  -0.69  \n",
      "4996      0.0      0.0   0.47  \n",
      "4997      0.0      0.0   0.23  \n",
      "4998      0.0      0.0   0.23  \n",
      "4999      0.0      0.0  -0.69  \n",
      "\n",
      "[5000 rows x 30 columns]\n"
     ]
    }
   ],
   "source": [
    "print(df)"
   ]
  },
  {
   "cell_type": "code",
   "execution_count": 6,
   "metadata": {},
   "outputs": [
    {
     "data": {
      "text/plain": [
       "Home number given        4633\n",
       "No phone number given     351\n",
       "'Other number given        16\n",
       "Name: PHONE, dtype: int64"
      ]
     },
     "execution_count": 6,
     "metadata": {},
     "output_type": "execute_result"
    }
   ],
   "source": [
    "df['PHONE'].value_counts()"
   ]
  },
  {
   "cell_type": "code",
   "execution_count": 21,
   "metadata": {},
   "outputs": [],
   "source": [
    "cross1=pd.crosstab(df['PHONE'],df['FLAGBINARY'],margins=True,margins_name='Total')\n",
    "cross2=pd.crosstab(df['PHONE'],df['FLAGBINARY'],normalize='index')"
   ]
  },
  {
   "cell_type": "code",
   "execution_count": 28,
   "metadata": {},
   "outputs": [],
   "source": [
    "c, p, dof, expected = stats.chi2_contingency(cross2)"
   ]
  },
  {
   "cell_type": "code",
   "execution_count": 29,
   "metadata": {},
   "outputs": [
    {
     "data": {
      "text/plain": [
       "0.9489711579769308"
      ]
     },
     "execution_count": 29,
     "metadata": {},
     "output_type": "execute_result"
    }
   ],
   "source": [
    "p"
   ]
  },
  {
   "cell_type": "code",
   "execution_count": 30,
   "metadata": {},
   "outputs": [
    {
     "data": {
      "text/plain": [
       "0.10475374569986988"
      ]
     },
     "execution_count": 30,
     "metadata": {},
     "output_type": "execute_result"
    }
   ],
   "source": [
    "c"
   ]
  },
  {
   "cell_type": "code",
   "execution_count": 31,
   "metadata": {},
   "outputs": [
    {
     "data": {
      "text/plain": [
       "2"
      ]
     },
     "execution_count": 31,
     "metadata": {},
     "output_type": "execute_result"
    }
   ],
   "source": [
    "dof"
   ]
  },
  {
   "cell_type": "code",
   "execution_count": 32,
   "metadata": {},
   "outputs": [
    {
     "data": {
      "text/plain": [
       "array([[0.18303964, 0.81696036],\n",
       "       [0.18303964, 0.81696036],\n",
       "       [0.18303964, 0.81696036]])"
      ]
     },
     "execution_count": 32,
     "metadata": {},
     "output_type": "execute_result"
    }
   ],
   "source": [
    "expected"
   ]
  },
  {
   "cell_type": "code",
   "execution_count": 33,
   "metadata": {},
   "outputs": [],
   "source": [
    "#df['Phone1']=df['PHONE']"
   ]
  },
  {
   "cell_type": "code",
   "execution_count": 40,
   "metadata": {},
   "outputs": [],
   "source": [
    "df.loc[df['PHONE']=='Home number given','Phone1']=1\n",
    "df.loc[df['PHONE']!='Home number given','Phone1']=0"
   ]
  },
  {
   "cell_type": "code",
   "execution_count": 41,
   "metadata": {},
   "outputs": [
    {
     "name": "stdout",
     "output_type": "stream",
     "text": [
      "0       1\n",
      "1       1\n",
      "2       0\n",
      "3       0\n",
      "4       1\n",
      "       ..\n",
      "4995    1\n",
      "4996    1\n",
      "4997    0\n",
      "4998    1\n",
      "4999    1\n",
      "Name: Phone1, Length: 5000, dtype: object\n"
     ]
    }
   ],
   "source": [
    "print(df['Phone1'])"
   ]
  },
  {
   "cell_type": "code",
   "execution_count": 42,
   "metadata": {},
   "outputs": [
    {
     "data": {
      "text/html": [
       "<div>\n",
       "<style scoped>\n",
       "    .dataframe tbody tr th:only-of-type {\n",
       "        vertical-align: middle;\n",
       "    }\n",
       "\n",
       "    .dataframe tbody tr th {\n",
       "        vertical-align: top;\n",
       "    }\n",
       "\n",
       "    .dataframe thead th {\n",
       "        text-align: right;\n",
       "    }\n",
       "</style>\n",
       "<table border=\"1\" class=\"dataframe\">\n",
       "  <thead>\n",
       "    <tr style=\"text-align: right;\">\n",
       "      <th>FLAGBINARY</th>\n",
       "      <th>Bad</th>\n",
       "      <th>Good</th>\n",
       "      <th>Total</th>\n",
       "    </tr>\n",
       "    <tr>\n",
       "      <th>Phone1</th>\n",
       "      <th></th>\n",
       "      <th></th>\n",
       "      <th></th>\n",
       "    </tr>\n",
       "  </thead>\n",
       "  <tbody>\n",
       "    <tr>\n",
       "      <th>0</th>\n",
       "      <td>102</td>\n",
       "      <td>265</td>\n",
       "      <td>367</td>\n",
       "    </tr>\n",
       "    <tr>\n",
       "      <th>1</th>\n",
       "      <td>645</td>\n",
       "      <td>3988</td>\n",
       "      <td>4633</td>\n",
       "    </tr>\n",
       "    <tr>\n",
       "      <th>Total</th>\n",
       "      <td>747</td>\n",
       "      <td>4253</td>\n",
       "      <td>5000</td>\n",
       "    </tr>\n",
       "  </tbody>\n",
       "</table>\n",
       "</div>"
      ],
      "text/plain": [
       "FLAGBINARY  Bad  Good  Total\n",
       "Phone1                      \n",
       "0           102   265    367\n",
       "1           645  3988   4633\n",
       "Total       747  4253   5000"
      ]
     },
     "execution_count": 42,
     "metadata": {},
     "output_type": "execute_result"
    }
   ],
   "source": [
    "pd.crosstab(df['Phone1'],df['FLAGBINARY'],margins=True,margins_name='Total')\n"
   ]
  },
  {
   "cell_type": "code",
   "execution_count": 43,
   "metadata": {},
   "outputs": [],
   "source": [
    "df.loc[df['Phone1']==1,'PhoneWoe']=0.08\n",
    "df.loc[df['Phone1']==0,'PhoneWoe']=-0.79"
   ]
  },
  {
   "cell_type": "code",
   "execution_count": 44,
   "metadata": {},
   "outputs": [
    {
     "name": "stdout",
     "output_type": "stream",
     "text": [
      "0       0.08\n",
      "1       0.08\n",
      "2      -0.79\n",
      "3      -0.79\n",
      "4       0.08\n",
      "        ... \n",
      "4995    0.08\n",
      "4996    0.08\n",
      "4997   -0.79\n",
      "4998    0.08\n",
      "4999    0.08\n",
      "Name: PhoneWoe, Length: 5000, dtype: float64\n"
     ]
    }
   ],
   "source": [
    "print(df['PhoneWoe'])"
   ]
  },
  {
   "cell_type": "code",
   "execution_count": 45,
   "metadata": {},
   "outputs": [
    {
     "data": {
      "text/html": [
       "<div>\n",
       "<style scoped>\n",
       "    .dataframe tbody tr th:only-of-type {\n",
       "        vertical-align: middle;\n",
       "    }\n",
       "\n",
       "    .dataframe tbody tr th {\n",
       "        vertical-align: top;\n",
       "    }\n",
       "\n",
       "    .dataframe thead th {\n",
       "        text-align: right;\n",
       "    }\n",
       "</style>\n",
       "<table border=\"1\" class=\"dataframe\">\n",
       "  <thead>\n",
       "    <tr style=\"text-align: right;\">\n",
       "      <th>FLAGBINARY</th>\n",
       "      <th>Bad</th>\n",
       "      <th>Good</th>\n",
       "      <th>Total</th>\n",
       "    </tr>\n",
       "    <tr>\n",
       "      <th>MSTAT</th>\n",
       "      <th></th>\n",
       "      <th></th>\n",
       "      <th></th>\n",
       "    </tr>\n",
       "  </thead>\n",
       "  <tbody>\n",
       "    <tr>\n",
       "      <th>Co-habiting</th>\n",
       "      <td>20</td>\n",
       "      <td>126</td>\n",
       "      <td>146</td>\n",
       "    </tr>\n",
       "    <tr>\n",
       "      <th>Divorced</th>\n",
       "      <td>69</td>\n",
       "      <td>352</td>\n",
       "      <td>421</td>\n",
       "    </tr>\n",
       "    <tr>\n",
       "      <th>Married</th>\n",
       "      <td>257</td>\n",
       "      <td>2280</td>\n",
       "      <td>2537</td>\n",
       "    </tr>\n",
       "    <tr>\n",
       "      <th>Single</th>\n",
       "      <td>391</td>\n",
       "      <td>1348</td>\n",
       "      <td>1739</td>\n",
       "    </tr>\n",
       "    <tr>\n",
       "      <th>Widowed</th>\n",
       "      <td>10</td>\n",
       "      <td>147</td>\n",
       "      <td>157</td>\n",
       "    </tr>\n",
       "    <tr>\n",
       "      <th>Total</th>\n",
       "      <td>747</td>\n",
       "      <td>4253</td>\n",
       "      <td>5000</td>\n",
       "    </tr>\n",
       "  </tbody>\n",
       "</table>\n",
       "</div>"
      ],
      "text/plain": [
       "FLAGBINARY   Bad  Good  Total\n",
       "MSTAT                        \n",
       "Co-habiting   20   126    146\n",
       "Divorced      69   352    421\n",
       "Married      257  2280   2537\n",
       "Single       391  1348   1739\n",
       "Widowed       10   147    157\n",
       "Total        747  4253   5000"
      ]
     },
     "execution_count": 45,
     "metadata": {},
     "output_type": "execute_result"
    }
   ],
   "source": [
    "pd.crosstab(df['MSTAT'],df['FLAGBINARY'],margins=True,margins_name='Total')\n"
   ]
  },
  {
   "cell_type": "code",
   "execution_count": 49,
   "metadata": {},
   "outputs": [],
   "source": [
    "df.loc[(df['MSTAT']=='Co-habiting')|(df['MSTAT']=='Divorced'),'MSgrouped']=3\n",
    "df.loc[df['MSTAT']=='Single','MSgrouped']=2\n",
    "df.loc[(df['MSTAT']=='Married')|(df['MSTAT']=='Widowed'),'MSgrouped']=1"
   ]
  },
  {
   "cell_type": "code",
   "execution_count": 50,
   "metadata": {},
   "outputs": [
    {
     "name": "stdout",
     "output_type": "stream",
     "text": [
      "0       2.0\n",
      "1       2.0\n",
      "2       1.0\n",
      "3       1.0\n",
      "4       1.0\n",
      "       ... \n",
      "4995    2.0\n",
      "4996    1.0\n",
      "4997    3.0\n",
      "4998    1.0\n",
      "4999    3.0\n",
      "Name: MSgrouped, Length: 5000, dtype: float64\n"
     ]
    }
   ],
   "source": [
    "print(df['MSgrouped'])"
   ]
  },
  {
   "cell_type": "code",
   "execution_count": 51,
   "metadata": {},
   "outputs": [],
   "source": [
    "df['Married1']=0\n",
    "df['Married2']=0\n",
    "df.loc[df['MSgrouped']==1,'Married1']=1\n",
    "df.loc[df['MSgrouped']==2,'Married2']=1"
   ]
  },
  {
   "cell_type": "code",
   "execution_count": null,
   "metadata": {},
   "outputs": [],
   "source": []
  }
 ],
 "metadata": {
  "kernelspec": {
   "display_name": "PyCharm (Z)",
   "language": "python",
   "name": "pycharm-3c1f3dbc"
  },
  "language_info": {
   "codemirror_mode": {
    "name": "ipython",
    "version": 3
   },
   "file_extension": ".py",
   "mimetype": "text/x-python",
   "name": "python",
   "nbconvert_exporter": "python",
   "pygments_lexer": "ipython3",
   "version": "3.7.6"
  }
 },
 "nbformat": 4,
 "nbformat_minor": 2
}
